{
  "nbformat": 4,
  "nbformat_minor": 0,
  "metadata": {
    "colab": {
      "provenance": [],
      "authorship_tag": "ABX9TyP72hojKiqJwK2D5eNiB7nh",
      "include_colab_link": true
    },
    "kernelspec": {
      "name": "python3",
      "display_name": "Python 3"
    },
    "language_info": {
      "name": "python"
    }
  },
  "cells": [
    {
      "cell_type": "markdown",
      "metadata": {
        "id": "view-in-github",
        "colab_type": "text"
      },
      "source": [
        "<a href=\"https://colab.research.google.com/github/yagnaganesh/ML/blob/main/LLM_chatbot.ipynb\" target=\"_parent\"><img src=\"https://colab.research.google.com/assets/colab-badge.svg\" alt=\"Open In Colab\"/></a>"
      ]
    },
    {
      "cell_type": "code",
      "execution_count": 26,
      "metadata": {
        "colab": {
          "base_uri": "https://localhost:8080/",
          "height": 73
        },
        "id": "xcJqbEKg9ijW",
        "outputId": "3a3d5a0e-ef7c-4688-fd19-2f879f316422"
      },
      "outputs": [
        {
          "output_type": "stream",
          "name": "stdout",
          "text": [
            "Hills, gentle swells of earth, rise and fall across the landscape, their forms sculpted by time and weather.  They offer panoramic views, a vantage point from which to survey the world below.  Their slopes, clothed in grass, trees, or scrub, provide habitat for diverse wildlife.  From rolling green hills of farmland to rugged, rocky peaks, they offer a sense of peace and adventure.  Climbing a hill, even a small one, can be a rewarding experience, offering a sense of accomplishment and a breathtaking perspective.  Hills, in their quiet majesty, are a fundamental part of our natural world.\n",
            "\n"
          ]
        }
      ],
      "source": [
        "import google.generativeai as genai\n",
        "from google.colab import userdata\n",
        "import os\n",
        "\n",
        "GOOGLE_API_KEY = userdata.get('GOOGLE_API_KEY')\n",
        "model=genai.GenerativeModel('models/gemini-1.5-flash')\n",
        "prompt='write about hills in 100 words'\n",
        "response=model.generate_content(prompt)\n",
        "print(response.text)"
      ]
    }
  ]
}