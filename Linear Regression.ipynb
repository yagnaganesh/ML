{
 "cells": [
  {
   "cell_type": "code",
   "execution_count": 3,
   "id": "cc4b2cf6",
   "metadata": {},
   "outputs": [],
   "source": [
    "import pandas as pd\n",
    "import matplotlib.pyplot as plt"
   ]
  },
  {
   "cell_type": "code",
   "execution_count": 4,
   "id": "54578f4f",
   "metadata": {},
   "outputs": [],
   "source": [
    "import os"
   ]
  },
  {
   "cell_type": "code",
   "execution_count": 5,
   "id": "945b6e21",
   "metadata": {},
   "outputs": [
    {
     "name": "stdout",
     "output_type": "stream",
     "text": [
      "/Users/yagnaganesh/Desktop/Python_ML/Linear Regression\n"
     ]
    }
   ],
   "source": [
    "print(os.getcwd())"
   ]
  },
  {
   "cell_type": "code",
   "execution_count": 7,
   "id": "95c22474",
   "metadata": {},
   "outputs": [],
   "source": [
    "df = pd.read_csv('data.csv')"
   ]
  },
  {
   "cell_type": "code",
   "execution_count": 9,
   "id": "dcc2e6c7",
   "metadata": {},
   "outputs": [
    {
     "data": {
      "text/html": [
       "<div>\n",
       "<style scoped>\n",
       "    .dataframe tbody tr th:only-of-type {\n",
       "        vertical-align: middle;\n",
       "    }\n",
       "\n",
       "    .dataframe tbody tr th {\n",
       "        vertical-align: top;\n",
       "    }\n",
       "\n",
       "    .dataframe thead th {\n",
       "        text-align: right;\n",
       "    }\n",
       "</style>\n",
       "<table border=\"1\" class=\"dataframe\">\n",
       "  <thead>\n",
       "    <tr style=\"text-align: right;\">\n",
       "      <th></th>\n",
       "      <th>date</th>\n",
       "      <th>price</th>\n",
       "      <th>bedrooms</th>\n",
       "      <th>bathrooms</th>\n",
       "      <th>sqft_living</th>\n",
       "      <th>sqft_lot</th>\n",
       "      <th>floors</th>\n",
       "      <th>waterfront</th>\n",
       "      <th>view</th>\n",
       "      <th>condition</th>\n",
       "      <th>sqft_above</th>\n",
       "      <th>sqft_basement</th>\n",
       "      <th>yr_built</th>\n",
       "      <th>yr_renovated</th>\n",
       "      <th>street</th>\n",
       "      <th>city</th>\n",
       "      <th>statezip</th>\n",
       "      <th>country</th>\n",
       "    </tr>\n",
       "  </thead>\n",
       "  <tbody>\n",
       "    <tr>\n",
       "      <th>0</th>\n",
       "      <td>2014-05-02 00:00:00</td>\n",
       "      <td>313000.0</td>\n",
       "      <td>3.0</td>\n",
       "      <td>1.50</td>\n",
       "      <td>1340</td>\n",
       "      <td>7912</td>\n",
       "      <td>1.5</td>\n",
       "      <td>0</td>\n",
       "      <td>0</td>\n",
       "      <td>3</td>\n",
       "      <td>1340</td>\n",
       "      <td>0</td>\n",
       "      <td>1955</td>\n",
       "      <td>2005</td>\n",
       "      <td>18810 Densmore Ave N</td>\n",
       "      <td>Shoreline</td>\n",
       "      <td>WA 98133</td>\n",
       "      <td>USA</td>\n",
       "    </tr>\n",
       "    <tr>\n",
       "      <th>1</th>\n",
       "      <td>2014-05-02 00:00:00</td>\n",
       "      <td>2384000.0</td>\n",
       "      <td>5.0</td>\n",
       "      <td>2.50</td>\n",
       "      <td>3650</td>\n",
       "      <td>9050</td>\n",
       "      <td>2.0</td>\n",
       "      <td>0</td>\n",
       "      <td>4</td>\n",
       "      <td>5</td>\n",
       "      <td>3370</td>\n",
       "      <td>280</td>\n",
       "      <td>1921</td>\n",
       "      <td>0</td>\n",
       "      <td>709 W Blaine St</td>\n",
       "      <td>Seattle</td>\n",
       "      <td>WA 98119</td>\n",
       "      <td>USA</td>\n",
       "    </tr>\n",
       "    <tr>\n",
       "      <th>2</th>\n",
       "      <td>2014-05-02 00:00:00</td>\n",
       "      <td>342000.0</td>\n",
       "      <td>3.0</td>\n",
       "      <td>2.00</td>\n",
       "      <td>1930</td>\n",
       "      <td>11947</td>\n",
       "      <td>1.0</td>\n",
       "      <td>0</td>\n",
       "      <td>0</td>\n",
       "      <td>4</td>\n",
       "      <td>1930</td>\n",
       "      <td>0</td>\n",
       "      <td>1966</td>\n",
       "      <td>0</td>\n",
       "      <td>26206-26214 143rd Ave SE</td>\n",
       "      <td>Kent</td>\n",
       "      <td>WA 98042</td>\n",
       "      <td>USA</td>\n",
       "    </tr>\n",
       "    <tr>\n",
       "      <th>3</th>\n",
       "      <td>2014-05-02 00:00:00</td>\n",
       "      <td>420000.0</td>\n",
       "      <td>3.0</td>\n",
       "      <td>2.25</td>\n",
       "      <td>2000</td>\n",
       "      <td>8030</td>\n",
       "      <td>1.0</td>\n",
       "      <td>0</td>\n",
       "      <td>0</td>\n",
       "      <td>4</td>\n",
       "      <td>1000</td>\n",
       "      <td>1000</td>\n",
       "      <td>1963</td>\n",
       "      <td>0</td>\n",
       "      <td>857 170th Pl NE</td>\n",
       "      <td>Bellevue</td>\n",
       "      <td>WA 98008</td>\n",
       "      <td>USA</td>\n",
       "    </tr>\n",
       "    <tr>\n",
       "      <th>4</th>\n",
       "      <td>2014-05-02 00:00:00</td>\n",
       "      <td>550000.0</td>\n",
       "      <td>4.0</td>\n",
       "      <td>2.50</td>\n",
       "      <td>1940</td>\n",
       "      <td>10500</td>\n",
       "      <td>1.0</td>\n",
       "      <td>0</td>\n",
       "      <td>0</td>\n",
       "      <td>4</td>\n",
       "      <td>1140</td>\n",
       "      <td>800</td>\n",
       "      <td>1976</td>\n",
       "      <td>1992</td>\n",
       "      <td>9105 170th Ave NE</td>\n",
       "      <td>Redmond</td>\n",
       "      <td>WA 98052</td>\n",
       "      <td>USA</td>\n",
       "    </tr>\n",
       "  </tbody>\n",
       "</table>\n",
       "</div>"
      ],
      "text/plain": [
       "                  date      price  bedrooms  bathrooms  sqft_living  sqft_lot  \\\n",
       "0  2014-05-02 00:00:00   313000.0       3.0       1.50         1340      7912   \n",
       "1  2014-05-02 00:00:00  2384000.0       5.0       2.50         3650      9050   \n",
       "2  2014-05-02 00:00:00   342000.0       3.0       2.00         1930     11947   \n",
       "3  2014-05-02 00:00:00   420000.0       3.0       2.25         2000      8030   \n",
       "4  2014-05-02 00:00:00   550000.0       4.0       2.50         1940     10500   \n",
       "\n",
       "   floors  waterfront  view  condition  sqft_above  sqft_basement  yr_built  \\\n",
       "0     1.5           0     0          3        1340              0      1955   \n",
       "1     2.0           0     4          5        3370            280      1921   \n",
       "2     1.0           0     0          4        1930              0      1966   \n",
       "3     1.0           0     0          4        1000           1000      1963   \n",
       "4     1.0           0     0          4        1140            800      1976   \n",
       "\n",
       "   yr_renovated                    street       city  statezip country  \n",
       "0          2005      18810 Densmore Ave N  Shoreline  WA 98133     USA  \n",
       "1             0           709 W Blaine St    Seattle  WA 98119     USA  \n",
       "2             0  26206-26214 143rd Ave SE       Kent  WA 98042     USA  \n",
       "3             0           857 170th Pl NE   Bellevue  WA 98008     USA  \n",
       "4          1992         9105 170th Ave NE    Redmond  WA 98052     USA  "
      ]
     },
     "execution_count": 9,
     "metadata": {},
     "output_type": "execute_result"
    }
   ],
   "source": [
    "df.head()"
   ]
  },
  {
   "cell_type": "code",
   "execution_count": 11,
   "id": "ff02dc23",
   "metadata": {},
   "outputs": [
    {
     "name": "stdout",
     "output_type": "stream",
     "text": [
      "<class 'pandas.core.frame.DataFrame'>\n",
      "RangeIndex: 4600 entries, 0 to 4599\n",
      "Data columns (total 18 columns):\n",
      " #   Column         Non-Null Count  Dtype  \n",
      "---  ------         --------------  -----  \n",
      " 0   date           4600 non-null   object \n",
      " 1   price          4600 non-null   float64\n",
      " 2   bedrooms       4600 non-null   float64\n",
      " 3   bathrooms      4600 non-null   float64\n",
      " 4   sqft_living    4600 non-null   int64  \n",
      " 5   sqft_lot       4600 non-null   int64  \n",
      " 6   floors         4600 non-null   float64\n",
      " 7   waterfront     4600 non-null   int64  \n",
      " 8   view           4600 non-null   int64  \n",
      " 9   condition      4600 non-null   int64  \n",
      " 10  sqft_above     4600 non-null   int64  \n",
      " 11  sqft_basement  4600 non-null   int64  \n",
      " 12  yr_built       4600 non-null   int64  \n",
      " 13  yr_renovated   4600 non-null   int64  \n",
      " 14  street         4600 non-null   object \n",
      " 15  city           4600 non-null   object \n",
      " 16  statezip       4600 non-null   object \n",
      " 17  country        4600 non-null   object \n",
      "dtypes: float64(4), int64(9), object(5)\n",
      "memory usage: 647.0+ KB\n"
     ]
    }
   ],
   "source": [
    "df.info()"
   ]
  },
  {
   "cell_type": "code",
   "execution_count": 17,
   "id": "da74914f",
   "metadata": {},
   "outputs": [
    {
     "name": "stdout",
     "output_type": "stream",
     "text": [
      "                  price  bedrooms  bathrooms  sqft_living  sqft_lot    floors  \\\n",
      "price          1.000000  0.200336   0.327110     0.430410  0.050451  0.151461   \n",
      "bedrooms       0.200336  1.000000   0.545920     0.594884  0.068819  0.177895   \n",
      "bathrooms      0.327110  0.545920   1.000000     0.761154  0.107837  0.486428   \n",
      "sqft_living    0.430410  0.594884   0.761154     1.000000  0.210538  0.344850   \n",
      "sqft_lot       0.050451  0.068819   0.107837     0.210538  1.000000  0.003750   \n",
      "floors         0.151461  0.177895   0.486428     0.344850  0.003750  1.000000   \n",
      "waterfront     0.135648 -0.003483   0.076232     0.117616  0.017241  0.022024   \n",
      "view           0.228504  0.111028   0.211960     0.311009  0.073907  0.031211   \n",
      "condition      0.034915  0.025080  -0.119994    -0.062826  0.000558 -0.275013   \n",
      "sqft_above     0.367570  0.484705   0.689918     0.876443  0.216455  0.522814   \n",
      "sqft_basement  0.210427  0.334165   0.298020     0.447206  0.034842 -0.255510   \n",
      "yr_built       0.021857  0.142461   0.463498     0.287775  0.050706  0.467481   \n",
      "yr_renovated  -0.028774 -0.061082  -0.215886    -0.122817 -0.022730 -0.233996   \n",
      "\n",
      "               waterfront      view  condition  sqft_above  sqft_basement  \\\n",
      "price            0.135648  0.228504   0.034915    0.367570       0.210427   \n",
      "bedrooms        -0.003483  0.111028   0.025080    0.484705       0.334165   \n",
      "bathrooms        0.076232  0.211960  -0.119994    0.689918       0.298020   \n",
      "sqft_living      0.117616  0.311009  -0.062826    0.876443       0.447206   \n",
      "sqft_lot         0.017241  0.073907   0.000558    0.216455       0.034842   \n",
      "floors           0.022024  0.031211  -0.275013    0.522814      -0.255510   \n",
      "waterfront       1.000000  0.360935   0.000352    0.078911       0.097501   \n",
      "view             0.360935  1.000000   0.063077    0.174327       0.321602   \n",
      "condition        0.000352  0.063077   1.000000   -0.178196       0.200632   \n",
      "sqft_above       0.078911  0.174327  -0.178196    1.000000      -0.038723   \n",
      "sqft_basement    0.097501  0.321602   0.200632   -0.038723       1.000000   \n",
      "yr_built        -0.023563 -0.064465  -0.399698    0.408535      -0.161675   \n",
      "yr_renovated     0.008625  0.022967  -0.186818   -0.160426       0.043125   \n",
      "\n",
      "               yr_built  yr_renovated  \n",
      "price          0.021857     -0.028774  \n",
      "bedrooms       0.142461     -0.061082  \n",
      "bathrooms      0.463498     -0.215886  \n",
      "sqft_living    0.287775     -0.122817  \n",
      "sqft_lot       0.050706     -0.022730  \n",
      "floors         0.467481     -0.233996  \n",
      "waterfront    -0.023563      0.008625  \n",
      "view          -0.064465      0.022967  \n",
      "condition     -0.399698     -0.186818  \n",
      "sqft_above     0.408535     -0.160426  \n",
      "sqft_basement -0.161675      0.043125  \n",
      "yr_built       1.000000     -0.321342  \n",
      "yr_renovated  -0.321342      1.000000  \n"
     ]
    },
    {
     "name": "stderr",
     "output_type": "stream",
     "text": [
      "/var/folders/1q/wlxnbkbn735gg2_n58kw8c4c0000gn/T/ipykernel_90450/2704954590.py:1: FutureWarning: The default value of numeric_only in DataFrame.corr is deprecated. In a future version, it will default to False. Select only valid columns or specify the value of numeric_only to silence this warning.\n",
      "  corr_matrix=df.corr()\n"
     ]
    }
   ],
   "source": [
    "corr_matrix=df.corr()\n",
    "print(corr_matrix)"
   ]
  },
  {
   "cell_type": "code",
   "execution_count": 25,
   "id": "7f5c3157",
   "metadata": {},
   "outputs": [],
   "source": [
    "sc=['price','sqft_living','sqft_above']\n",
    "new_df=df[sc]"
   ]
  },
  {
   "cell_type": "code",
   "execution_count": 26,
   "id": "a857c717",
   "metadata": {},
   "outputs": [
    {
     "data": {
      "text/html": [
       "<div>\n",
       "<style scoped>\n",
       "    .dataframe tbody tr th:only-of-type {\n",
       "        vertical-align: middle;\n",
       "    }\n",
       "\n",
       "    .dataframe tbody tr th {\n",
       "        vertical-align: top;\n",
       "    }\n",
       "\n",
       "    .dataframe thead th {\n",
       "        text-align: right;\n",
       "    }\n",
       "</style>\n",
       "<table border=\"1\" class=\"dataframe\">\n",
       "  <thead>\n",
       "    <tr style=\"text-align: right;\">\n",
       "      <th></th>\n",
       "      <th>price</th>\n",
       "      <th>sqft_living</th>\n",
       "      <th>sqft_above</th>\n",
       "    </tr>\n",
       "  </thead>\n",
       "  <tbody>\n",
       "    <tr>\n",
       "      <th>0</th>\n",
       "      <td>313000.0</td>\n",
       "      <td>1340</td>\n",
       "      <td>1340</td>\n",
       "    </tr>\n",
       "    <tr>\n",
       "      <th>1</th>\n",
       "      <td>2384000.0</td>\n",
       "      <td>3650</td>\n",
       "      <td>3370</td>\n",
       "    </tr>\n",
       "    <tr>\n",
       "      <th>2</th>\n",
       "      <td>342000.0</td>\n",
       "      <td>1930</td>\n",
       "      <td>1930</td>\n",
       "    </tr>\n",
       "    <tr>\n",
       "      <th>3</th>\n",
       "      <td>420000.0</td>\n",
       "      <td>2000</td>\n",
       "      <td>1000</td>\n",
       "    </tr>\n",
       "    <tr>\n",
       "      <th>4</th>\n",
       "      <td>550000.0</td>\n",
       "      <td>1940</td>\n",
       "      <td>1140</td>\n",
       "    </tr>\n",
       "  </tbody>\n",
       "</table>\n",
       "</div>"
      ],
      "text/plain": [
       "       price  sqft_living  sqft_above\n",
       "0   313000.0         1340        1340\n",
       "1  2384000.0         3650        3370\n",
       "2   342000.0         1930        1930\n",
       "3   420000.0         2000        1000\n",
       "4   550000.0         1940        1140"
      ]
     },
     "execution_count": 26,
     "metadata": {},
     "output_type": "execute_result"
    }
   ],
   "source": [
    "new_df.head()"
   ]
  },
  {
   "cell_type": "code",
   "execution_count": 27,
   "id": "e159d658",
   "metadata": {},
   "outputs": [
    {
     "name": "stdout",
     "output_type": "stream",
     "text": [
      "               price  sqft_living  sqft_above\n",
      "price        1.00000     0.430410    0.367570\n",
      "sqft_living  0.43041     1.000000    0.876443\n",
      "sqft_above   0.36757     0.876443    1.000000\n"
     ]
    }
   ],
   "source": [
    "cm=new_df.corr()\n",
    "print(cm)"
   ]
  },
  {
   "cell_type": "code",
   "execution_count": null,
   "id": "86d89d2e",
   "metadata": {},
   "outputs": [],
   "source": [
    "# y= t0+t1*sqft_living+t2*sqft_above\n",
    "# y is the predicted price\n",
    "# t0 is the bias (intercept)\n",
    "# t1,t2 are weights (slopes)\n",
    "# sqft_living, sqft_above are input features"
   ]
  },
  {
   "cell_type": "code",
   "execution_count": 38,
   "id": "ff7de83e",
   "metadata": {},
   "outputs": [],
   "source": [
    "X=new_df[['sqft_living','sqft_above']].values\n",
    "Y=new_df['price'].values"
   ]
  },
  {
   "cell_type": "code",
   "execution_count": 39,
   "id": "74a88fe9",
   "metadata": {},
   "outputs": [],
   "source": [
    "import numpy as np\n",
    "# add ones col for bias term t0\n",
    "X = np.c_[np.ones((X.shape[0], 1)), X]"
   ]
  },
  {
   "cell_type": "code",
   "execution_count": 40,
   "id": "be6839d2",
   "metadata": {},
   "outputs": [],
   "source": [
    "xt_x=np.zeros((X.shape[1],X.shape[1]))\n",
    "for i in range(X.shape[1]):\n",
    "    for j in range(X.shape[1]):\n",
    "        xt_x[i,j]=sum(X[:,i]*X[:,j])"
   ]
  },
  {
   "cell_type": "code",
   "execution_count": 44,
   "id": "86e32618",
   "metadata": {},
   "outputs": [],
   "source": [
    "xt_y=np.zeros((X.shape[1],1))\n",
    "for i in range(X.shape[1]):\n",
    "    xt_y[i,0]=sum(X[:,i]*Y)\n"
   ]
  },
  {
   "cell_type": "code",
   "execution_count": 45,
   "id": "871ef214",
   "metadata": {},
   "outputs": [],
   "source": [
    "xt_x_inv=np.linalg.inv(xt_x)"
   ]
  },
  {
   "cell_type": "code",
   "execution_count": 46,
   "id": "e29696cb",
   "metadata": {},
   "outputs": [],
   "source": [
    "theta=np.zeros((X.shape[1],1))\n",
    "for i in range(X.shape[1]):\n",
    "    for j in range(X.shape[1]):\n",
    "        theta[i,0]+=xt_x_inv[i,j]*xt_y[j,0]"
   ]
  },
  {
   "cell_type": "code",
   "execution_count": 49,
   "id": "1a413400",
   "metadata": {},
   "outputs": [],
   "source": [
    "from sklearn.model_selection import train_test_split\n",
    "xtrain,xtest,ytrain,ytest=train_test_split(X,Y,test_size=.20,random_state=42)"
   ]
  },
  {
   "cell_type": "code",
   "execution_count": 50,
   "id": "ceeeb3a8",
   "metadata": {},
   "outputs": [],
   "source": [
    "def predict(X, theta):\n",
    "    y_pred = np.zeros((X.shape[0], 1))\n",
    "    for i in range(X.shape[0]):\n",
    "        for j in range(X.shape[1]):\n",
    "            y_pred[i, 0] += X[i, j] * theta[j, 0]\n",
    "    return y_pred\n",
    "\n",
    "\n",
    "y_pred = predict(xtest, theta)"
   ]
  },
  {
   "cell_type": "code",
   "execution_count": 52,
   "id": "f32846e1",
   "metadata": {},
   "outputs": [
    {
     "name": "stdout",
     "output_type": "stream",
     "text": [
      "Mean Squared Error (MSE): 987989284435.9568\n"
     ]
    }
   ],
   "source": [
    "mse = np.mean((ytest - y_pred.flatten())**2)\n",
    "\n",
    "print(\"Mean Squared Error (MSE):\", mse)"
   ]
  },
  {
   "cell_type": "code",
   "execution_count": 54,
   "id": "5b24677f",
   "metadata": {},
   "outputs": [
    {
     "name": "stdout",
     "output_type": "stream",
     "text": [
      "Test R² Score: 0.03123711327755674\n"
     ]
    }
   ],
   "source": [
    "from sklearn.metrics import r2_score\n",
    "\n",
    "r2 = r2_score(ytest, y_pred)\n",
    "\n",
    "print(\"Test R² Score:\", r2)"
   ]
  }
 ],
 "metadata": {
  "kernelspec": {
   "display_name": "Python 3 (ipykernel)",
   "language": "python",
   "name": "python3"
  },
  "language_info": {
   "codemirror_mode": {
    "name": "ipython",
    "version": 3
   },
   "file_extension": ".py",
   "mimetype": "text/x-python",
   "name": "python",
   "nbconvert_exporter": "python",
   "pygments_lexer": "ipython3",
   "version": "3.10.9"
  }
 },
 "nbformat": 4,
 "nbformat_minor": 5
}
